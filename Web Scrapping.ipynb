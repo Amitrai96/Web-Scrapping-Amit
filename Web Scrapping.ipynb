from bs4 import BeautifulSoup
import pandas as pd
import requests
api_dict = {}
api_no = 0
url  = "https://www.programmableweb.com/category/all/apis"
while True:
    data = requests.get(url)
    soup = BeautifulSoup(data.text,'html.parser')
    apinames = soup.find_all('tr')
    for api in apinames:
        API_Name_tag=api.find("td",{"class":"views-field views-field-pw-version-title"})
        API_Name = API_Name_tag.text if API_Name_tag else "N/A"
        link_tag = api.find("a")
        link = link_tag.get("href") if link_tag else "N/A"
        url = "https://www.programmableweb.com"+link
        Description_tag=api.find("td",{"class":"views-field views-field-search-api-excerpt views-field-field-api-description hidden-xs visible-md visible-sm col-md-8"})
        Description = Description_tag.text if Description_tag else "N/A"
        Category_tag=api.find("td",{"class":"views-field views-field-field-article-primary-category"})
        Category= Category_tag.text if Category_tag else "N/A"
        #print(API_Name,' ',url,' ',Category)
        
        api_no +=1
        
        api_dict[api_no] = [API_Name,url,Category,Description]
        
    url_tag=soup.find("a",{"title":"Go to next page"})
    if url_tag:
        url='https://www.programmableweb.com/'+url_tag.get("href")
    else:
        break    
api_dict_df = pd.DataFrame.from_dict(api_dict,orient = 'index',columns=['API Name','API (absolute) URL','API Category','API Description'])
api_dict_df.to_csv('result.csv')
